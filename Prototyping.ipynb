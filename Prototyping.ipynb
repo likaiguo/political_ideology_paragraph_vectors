{
 "metadata": {
  "name": "",
  "signature": "sha256:ea3c50891ca36d05ff4ddc0777fd1d78a5e90707f1b9d948e9bc89d3ad7afaf7"
 },
 "nbformat": 3,
 "nbformat_minor": 0,
 "worksheets": [
  {
   "cells": [
    {
     "cell_type": "code",
     "collapsed": false,
     "input": [
      "# We need to check if every word in the IBC corpus is present in our common crawl vectors\n",
      "\n",
      "# So there is 5.3GB of common crawl information. We can't hope to store all of this in memory, so instead\n",
      "# we're going to get an index of word -> line, then cache it once it's accessed\n",
      "import linecache\n",
      "import numpy as np\n",
      "import codecs\n",
      "\n",
      "class GloVeLoader:\n",
      "    index = {}\n",
      "    filen = ''\n",
      "    total_lines = 0\n",
      "    def __init__(self, filen):\n",
      "        \"\"\"Generate the word -> line index\"\"\"\n",
      "        self.filen = filen\n",
      "        with codecs.open(self.filen, 'r',encoding='latin1') as gf:\n",
      "            for i, line in enumerate(gf):\n",
      "                total_lines = i\n",
      "                word = line.split(' ')[0]\n",
      "                self.index[word] = i\n",
      "    \n",
      "    def get(self, word):\n",
      "        \"\"\"Gets the floats stored for that word using linecache\"\"\"\n",
      "        line = linecache.getline(self.filen,self.index[word])\n",
      "        if line == '':\n",
      "            print(\"Looked for %s (line %d), got an error\" % (word, self.index[word]))\n",
      "            return -1\n",
      "        vals = line.split(' ')\n",
      "        if vals[0] != word:\n",
      "            print(\"Looked for %s (line %d), got %s. Something went wrong\" % (word, vals[0]))\n",
      "            return -1\n",
      "        return np.fromstring(vals[1:],dtype='float32',sep=' ')\n",
      "    \n",
      "    def clearcache(self):\n",
      "        \"\"\"Clear cache if the GloVe words need to be reloaded\"\"\"\n",
      "        linecache.clearcache()"
     ],
     "language": "python",
     "metadata": {},
     "outputs": [],
     "prompt_number": 15
    },
    {
     "cell_type": "code",
     "collapsed": false,
     "input": [
      "import time\n",
      "tic = time.time()\n",
      "commcrawl_vecs = GloVeLoader(\"word_reps/glove/glove.840B.300d.txt\")\n",
      "toc = time.time() - tic\n",
      "print(\"Took %f seconds\" % toc)"
     ],
     "language": "python",
     "metadata": {},
     "outputs": [
      {
       "output_type": "stream",
       "stream": "stdout",
       "text": [
        "Took 119.136192 seconds\n"
       ]
      }
     ],
     "prompt_number": 16
    },
    {
     "cell_type": "code",
     "collapsed": false,
     "input": [
      "import pickle\n",
      "IBC = pickle.load(open(\"full_ibc/ibcData.pkl\",'rb'))"
     ],
     "language": "python",
     "metadata": {},
     "outputs": [],
     "prompt_number": 75
    },
    {
     "cell_type": "code",
     "collapsed": false,
     "input": [
      "dictIBC = {\"liberal\":[sent.get_words().split(' ') for sent in IBC[0]],\n",
      "           \"conservative\":[sent.get_words().split(' ') for sent in IBC[1]],\n",
      "           \"neutral\":[sent.get_words().split(' ') for sent in IBC[2]]}"
     ],
     "language": "python",
     "metadata": {},
     "outputs": [],
     "prompt_number": 76
    },
    {
     "cell_type": "code",
     "collapsed": false,
     "input": [
      "total_problematic = 0\n",
      "for label in [\"liberal\",\"conservative\",\"neutral\"]:\n",
      "    total_sents = len(dictIBC[label])\n",
      "    sents_w_missing = 0    \n",
      "    for sent in dictIBC[label]:\n",
      "        old_p = total_problematic\n",
      "        for word in sent:\n",
      "            if word not in commcrawl_vecs.index:\n",
      "                total_problematic += 1\n",
      "        if old_p != total_problematic:\n",
      "            sents_w_missing += 1\n",
      "    print(\"%s has %d sentences with unknown words out of %d sentences total\" % (label, sents_w_missing, total_sents))\n",
      "print(total_problematic)\n",
      "skipped = set()"
     ],
     "language": "python",
     "metadata": {},
     "outputs": [
      {
       "output_type": "stream",
       "stream": "stdout",
       "text": [
        "liberal has 41 sentences with unknown words out of 2025 sentences total\n",
        "conservative has 27 sentences with unknown words out of 1701 sentences total\n",
        "neutral has 13 sentences with unknown words out of 600 sentences total\n",
        "88\n"
       ]
      }
     ],
     "prompt_number": 95
    },
    {
     "cell_type": "code",
     "collapsed": true,
     "input": [
      "from IPython.display import clear_output\n",
      "def insert_multi(lis, ind, ins):\n",
      "    \"\"\"Utility function to input a string of multiple tokens into a position\"\"\"\n",
      "    lis.pop(ind)\n",
      "    for ins_ind, ins_i in enumerate(ins):\n",
      "        lis.insert(ind+ins_ind,ins_i)\n",
      "    \n",
      "def get_context(lis, ind):\n",
      "    \"\"\"Utility function to get string of surrounding words, handles bounds\"\"\"\n",
      "    if ind > 0 and ind < len(lis)-1:\n",
      "        return ' '.join([lis[ind-1],lis[ind],lis[ind+1]])\n",
      "    elif ind > 0:\n",
      "        return ' '.join([lis[ind-1],lis[ind]])\n",
      "    else:\n",
      "        return ' '.join([lis[ind],lis[ind+1]])\n",
      "        \n",
      "def check_valid(lis, index):\n",
      "    in_ind = [i in index for i in lis]\n",
      "    return (all(in_ind), [lis[ind] for ind in range(len(lis)) if not in_ind[ind]])\n",
      "\n",
      "\n",
      "for label in [\"liberal\",\"conservative\",\"neutral\"]:\n",
      "    for sent in dictIBC[label]:\n",
      "        for ind, word in enumerate(sent):\n",
      "            if word not in commcrawl_vecs.index and (word not in skipped):\n",
      "                print(\"Word %s from IBC not found in Common Crawl\" % (word))\n",
      "                print(\"Context %s\" % get_context(sent, ind))\n",
      "                print(\"\"\"1: leave as is\n",
      "2: typo, let me fix\n",
      "3: split on -\n",
      "4: remove -\n",
      "5: join with left token\n",
      "6: join with right token\n",
      "7: join all three\n",
      "8: remove \\\\\"\"\")\n",
      "                command = input().rstrip()\n",
      "                if command == \"1\":\n",
      "                    skipped.add(word)\n",
      "                if command == \"2\":\n",
      "                    print(\"Ok, type it:\")\n",
      "                    new_word = input().rstrip()\n",
      "                    use = True\n",
      "                    while (True):\n",
      "                        in_ind = [i in commcrawl_vecs.index for i in new_word.split(' ')]\n",
      "                        if all(in_ind):\n",
      "                            break\n",
      "                        else:    \n",
      "                            print(\"%r not in the index. Try again? Type $$skip$$ to skip it\" % \n",
      "                                  [new_word.split(' ')[idx] for idx in range(len(in_ind)) if not in_ind[idx]])\n",
      "                        new_word = input().rstrip()\n",
      "                        if new_word == \"$$skip$$\":\n",
      "                            use=False\n",
      "                            skipped.add(word)\n",
      "                            break\n",
      "                    if use:\n",
      "                        insert_multi(sent, ind, new_word.split(' '))\n",
      "                if command == \"3\":\n",
      "                    new_words = word.split('-')\n",
      "                    insert_multi(sent, ind, new_words)\n",
      "                if command == \"4\":\n",
      "                    new_word = word.replace('-','')\n",
      "                    sent[ind] = new_word\n",
      "                if command == \"5\":\n",
      "                    if ind == 0:\n",
      "                        print(\"no. continuing\")\n",
      "                        continue\n",
      "                    new_word = sent[ind-1] + sent[ind]\n",
      "                    sent[ind] = new_word\n",
      "                    sent.pop(ind-1)\n",
      "                if command == \"6\":\n",
      "                    if ind >= len(sent):\n",
      "                        print(\"nope. continuing\")\n",
      "                        continue\n",
      "                    new_word = sent[ind] + sent[ind+1]\n",
      "                    sent[ind] = new_word\n",
      "                    sent.pop(ind+1)\n",
      "                if command == \"7\":\n",
      "                    if ind >= len(sent) or ind == 0:\n",
      "                        print(\"fuck you. continuing\")\n",
      "                        continue\n",
      "                    new_word = sent[ind-1] + sent[ind] + send[ind+1]\n",
      "                    sent[ind] = new_word\n",
      "                    sent.pop(ind+1)\n",
      "                    sent.pop(ind-1)\n",
      "                if command == \"8\":\n",
      "                    new_word = word.replace('\\\\','')\n",
      "                    sent[ind] = new_word\n",
      "                print(\"Skipping\")\n",
      "                clear_output()"
     ],
     "language": "python",
     "metadata": {},
     "outputs": [],
     "prompt_number": 89
    },
    {
     "cell_type": "code",
     "collapsed": false,
     "input": [
      "pickle.dump(dictIBC,open(\"full_ibc/cleaned_IBCdict.pkl\",'wb'))"
     ],
     "language": "python",
     "metadata": {},
     "outputs": [],
     "prompt_number": 94
    }
   ],
   "metadata": {}
  }
 ]
}