{
 "metadata": {
  "name": "",
  "signature": "sha256:52815718a7a6d34479f65b23826d27ecac9a79937600125e16adb558e5f70b52"
 },
 "nbformat": 3,
 "nbformat_minor": 0,
 "worksheets": [
  {
   "cells": [
    {
     "cell_type": "code",
     "collapsed": false,
     "input": [
      "import pickle\n",
      "IBC_all = pickle.load(open(\"full_ibc/sentvec_IBC.pkl\",'rb'))"
     ],
     "language": "python",
     "metadata": {},
     "outputs": [],
     "prompt_number": 1
    },
    {
     "cell_type": "code",
     "collapsed": false,
     "input": [
      "from sklearn import svm, cross_validation"
     ],
     "language": "python",
     "metadata": {},
     "outputs": [],
     "prompt_number": 2
    },
    {
     "cell_type": "code",
     "collapsed": false,
     "input": [
      "sAvgX = []\n",
      "sAvgY = []\n",
      "for label in IBC_all:\n",
      "    for sent in IBC_all[label]:\n",
      "        sAvgX.append(sent['savg'])\n",
      "        sAvgy.append(label)\n",
      "avgX_train, avgX_test, avgy_train, avgy_test = cross_validation.train_test_split(sAvgX,sAvgy,test_size=0.25)\n",
      "avg_linear_svc = svm.SVC(kernel=\"linear\").fit(avgX_train, avgy_train)\n",
      "avg_rbf_svc = svm.SVC(kernel=\"rbf\").fit(avgX_train, avgy_train)\n",
      "print(\"linearSVM avgVec: \",avg_linear_svc.score(avgX_test,avgy_test))\n",
      "print(\"rbfSVM avgVec: \",avg_rbf_svc.score(avgX_test,avgy_test))"
     ],
     "language": "python",
     "metadata": {},
     "outputs": [
      {
       "output_type": "stream",
       "stream": "stdout",
       "text": [
        "linearSVM avgVec:  0.521256931608\n",
        "rbfSVM avgVec: "
       ]
      },
      {
       "output_type": "stream",
       "stream": "stdout",
       "text": [
        " 0.463955637708\n"
       ]
      }
     ],
     "prompt_number": 5
    },
    {
     "cell_type": "code",
     "collapsed": false,
     "input": [
      "tfX = []\n",
      "tfy = []\n",
      "for label in IBC_all:\n",
      "    for sent in IBC_all[label]:\n",
      "        tfX.append(sent['tfidf'])\n",
      "        tfy.append(label)\n",
      "tfX_train, tfX_test, tfy_train, tfy_test = cross_validation.train_test_split(tfX,tfy,test_size=0.25)\n",
      "tf_linear_svc = svm.SVC(kernel=\"linear\").fit(tfX_train, tfy_train)\n",
      "tf_rbf_svc = svm.SVC(kernel=\"rbf\").fit(tfX_train, tfy_train)\n",
      "print(\"linearSVM tfidf: \",tf_linear_svc.score(tfX_test,tfy_test))\n",
      "print(\"rbfSVM tfidf: \",tf_rbf_svc.score(tfX_test,tfy_test))"
     ],
     "language": "python",
     "metadata": {},
     "outputs": [
      {
       "output_type": "stream",
       "stream": "stdout",
       "text": [
        "linearSVM tfidf:  0.474121996303\n",
        "rbfSVM tfidf: "
       ]
      },
      {
       "output_type": "stream",
       "stream": "stdout",
       "text": [
        " 0.464879852126\n"
       ]
      }
     ],
     "prompt_number": 6
    },
    {
     "cell_type": "code",
     "collapsed": false,
     "input": [
      "pVecX = []\n",
      "pVecY = []\n",
      "for label in IBC_all:\n",
      "    for sent in IBC_all[label]:\n",
      "        pVecX.append(sent['vec'])\n",
      "        pVecY.append(label)\n",
      "pVecX_train, pVecX_test, pVecy_train, pVecy_test = cross_validation.train_test_split(pVecX,pVecY,test_size=0.25)\n",
      "pVec_linear_svc = svm.SVC(kernel=\"linear\").fit(pVecX_train, pVecy_train)\n",
      "pVec_rbf_svc = svm.SVC(kernel=\"rbf\").fit(pVecX_train, pVecy_train)\n",
      "print(\"linearSVM pVec: \",pVec_linear_svc.score(pVecX_test,pVecy_test))\n",
      "print(\"rbfSVM pVec: \",pVec_rbf_svc.score(pVecX_test,pVecy_test))"
     ],
     "language": "python",
     "metadata": {},
     "outputs": [
      {
       "output_type": "stream",
       "stream": "stdout",
       "text": [
        "linearSVM pVec:  0.492606284658\n",
        "rbfSVM pVec: "
       ]
      },
      {
       "output_type": "stream",
       "stream": "stdout",
       "text": [
        " 0.460258780037\n"
       ]
      }
     ],
     "prompt_number": 8
    },
    {
     "cell_type": "code",
     "collapsed": false,
     "input": [
      "%matplotlib inline\n",
      "from scipy.spatial.distance import cosine\n",
      "from sklearn.manifold import TSNE\n",
      "import matplotlib.pyplot as plt\n",
      "def cosine_(x,y,squared=True):\n",
      "    return cosine(x,y)\n",
      "avgTSNE_model = TSNE(verbose=3,metric=cosine_,learning_rate=100).fit_transform(sAvgX)\n",
      "tfTSNE_model = TSNE(verbose=3,metric=cosine_,learning_rate=100).fit_transform(tfX)\n",
      "pVecTSNE_model = TSNE(verbose=3,metric=cosine_,learning_rate=100).fit_transform(pVecX)"
     ],
     "language": "python",
     "metadata": {},
     "outputs": [
      {
       "output_type": "stream",
       "stream": "stdout",
       "text": [
        "[t-SNE] Computing pairwise distances...\n",
        "[t-SNE] Computed conditional probabilities for sample 1000 / 4325"
       ]
      },
      {
       "output_type": "stream",
       "stream": "stdout",
       "text": [
        "\n",
        "[t-SNE] Computed conditional probabilities for sample 2000 / 4325"
       ]
      },
      {
       "output_type": "stream",
       "stream": "stdout",
       "text": [
        "\n",
        "[t-SNE] Computed conditional probabilities for sample 3000 / 4325"
       ]
      },
      {
       "output_type": "stream",
       "stream": "stdout",
       "text": [
        "\n",
        "[t-SNE] Computed conditional probabilities for sample 4000 / 4325"
       ]
      },
      {
       "output_type": "stream",
       "stream": "stdout",
       "text": [
        "\n",
        "[t-SNE] Computed conditional probabilities for sample 4325 / 4325"
       ]
      },
      {
       "output_type": "stream",
       "stream": "stdout",
       "text": [
        "\n",
        "[t-SNE] Mean sigma: 0.120790\n",
        "[t-SNE] Iteration 10: error = 23.6423849, gradient norm = 0.0380836"
       ]
      },
      {
       "output_type": "stream",
       "stream": "stdout",
       "text": [
        "\n",
        "[t-SNE] Iteration 20: error = 23.7454647, gradient norm = 0.0643944"
       ]
      },
      {
       "output_type": "stream",
       "stream": "stdout",
       "text": [
        "\n",
        "[t-SNE] Iteration 30: error = 23.9624678, gradient norm = 0.0762259"
       ]
      },
      {
       "output_type": "stream",
       "stream": "stdout",
       "text": [
        "\n",
        "[t-SNE] Iteration 32: did not make any progress during the last 30 episodes. Finished."
       ]
      },
      {
       "output_type": "stream",
       "stream": "stdout",
       "text": [
        "\n",
        "[t-SNE] Iteration 40: error = 23.6746577, gradient norm = 0.0519241"
       ]
      },
      {
       "output_type": "stream",
       "stream": "stdout",
       "text": [
        "\n",
        "[t-SNE] Iteration 50: error = 23.7278186, gradient norm = 0.0488414"
       ]
      },
      {
       "output_type": "stream",
       "stream": "stdout",
       "text": [
        "\n",
        "[t-SNE] Iteration 60: error = 23.7930004, gradient norm = 0.0644773"
       ]
      },
      {
       "output_type": "stream",
       "stream": "stdout",
       "text": [
        "\n",
        "[t-SNE] Iteration 70: error = 23.8604279, gradient norm = 0.0752788"
       ]
      },
      {
       "output_type": "stream",
       "stream": "stdout",
       "text": [
        "\n",
        "[t-SNE] Iteration 77: did not make any progress during the last 30 episodes. Finished."
       ]
      },
      {
       "output_type": "stream",
       "stream": "stdout",
       "text": [
        "\n",
        "[t-SNE] Error after 77 iterations with early exaggeration: 23.938010\n",
        "[t-SNE] Iteration 80: error = 4.5256238, gradient norm = 0.0091511"
       ]
      },
      {
       "output_type": "stream",
       "stream": "stdout",
       "text": [
        "\n",
        "[t-SNE] Iteration 90: error = 4.5118314, gradient norm = 0.0060678"
       ]
      },
      {
       "output_type": "stream",
       "stream": "stdout",
       "text": [
        "\n",
        "[t-SNE] Iteration 100: error = 4.4726356, gradient norm = 0.0067906"
       ]
      },
      {
       "output_type": "stream",
       "stream": "stdout",
       "text": [
        "\n",
        "[t-SNE] Iteration 110: error = 4.3827193, gradient norm = 0.0089172"
       ]
      },
      {
       "output_type": "stream",
       "stream": "stdout",
       "text": [
        "\n",
        "[t-SNE] Iteration 120: error = 4.2947139, gradient norm = 0.0092518"
       ]
      },
      {
       "output_type": "stream",
       "stream": "stdout",
       "text": [
        "\n",
        "[t-SNE] Iteration 130: error = 4.2367641, gradient norm = 0.0090318"
       ]
      },
      {
       "output_type": "stream",
       "stream": "stdout",
       "text": [
        "\n",
        "[t-SNE] Iteration 140: error = 4.2029892, gradient norm = 0.0087858"
       ]
      },
      {
       "output_type": "stream",
       "stream": "stdout",
       "text": [
        "\n",
        "[t-SNE] Iteration 150: error = 4.1836670, gradient norm = 0.0086123"
       ]
      },
      {
       "output_type": "stream",
       "stream": "stdout",
       "text": [
        "\n",
        "[t-SNE] Iteration 160: error = 4.1725106, gradient norm = 0.0085027"
       ]
      },
      {
       "output_type": "stream",
       "stream": "stdout",
       "text": [
        "\n",
        "[t-SNE] Iteration 170: error = 4.1659917, gradient norm = 0.0084356"
       ]
      },
      {
       "output_type": "stream",
       "stream": "stdout",
       "text": [
        "\n",
        "[t-SNE] Iteration 180: error = 4.1621480, gradient norm = 0.0083951"
       ]
      },
      {
       "output_type": "stream",
       "stream": "stdout",
       "text": [
        "\n",
        "[t-SNE] Iteration 190: error = 4.1598682, gradient norm = 0.0083708"
       ]
      },
      {
       "output_type": "stream",
       "stream": "stdout",
       "text": [
        "\n",
        "[t-SNE] Iteration 200: error = 4.1585109, gradient norm = 0.0083562"
       ]
      },
      {
       "output_type": "stream",
       "stream": "stdout",
       "text": [
        "\n",
        "[t-SNE] Iteration 210: error = 4.1577010, gradient norm = 0.0083474"
       ]
      },
      {
       "output_type": "stream",
       "stream": "stdout",
       "text": [
        "\n",
        "[t-SNE] Iteration 220: error = 4.1572171, gradient norm = 0.0083422"
       ]
      },
      {
       "output_type": "stream",
       "stream": "stdout",
       "text": [
        "\n",
        "[t-SNE] Iteration 230: error = 4.1569277, gradient norm = 0.0083390"
       ]
      },
      {
       "output_type": "stream",
       "stream": "stdout",
       "text": [
        "\n",
        "[t-SNE] Iteration 240: error = 4.1567546, gradient norm = 0.0083371"
       ]
      },
      {
       "output_type": "stream",
       "stream": "stdout",
       "text": [
        "\n",
        "[t-SNE] Iteration 250: error = 4.1566510, gradient norm = 0.0083360"
       ]
      },
      {
       "output_type": "stream",
       "stream": "stdout",
       "text": [
        "\n",
        "[t-SNE] Iteration 260: error = 4.1565890, gradient norm = 0.0083353"
       ]
      },
      {
       "output_type": "stream",
       "stream": "stdout",
       "text": [
        "\n",
        "[t-SNE] Iteration 270: error = 4.1565518, gradient norm = 0.0083349"
       ]
      },
      {
       "output_type": "stream",
       "stream": "stdout",
       "text": [
        "\n",
        "[t-SNE] Iteration 280: error = 4.1565296, gradient norm = 0.0083347"
       ]
      },
      {
       "output_type": "stream",
       "stream": "stdout",
       "text": [
        "\n",
        "[t-SNE] Iteration 290: error = 4.1565163, gradient norm = 0.0083345"
       ]
      },
      {
       "output_type": "stream",
       "stream": "stdout",
       "text": [
        "\n",
        "[t-SNE] Iteration 300: error = 4.1565083, gradient norm = 0.0083345"
       ]
      },
      {
       "output_type": "stream",
       "stream": "stdout",
       "text": [
        "\n",
        "[t-SNE] Iteration 310: error = 4.1565036, gradient norm = 0.0083344"
       ]
      },
      {
       "output_type": "stream",
       "stream": "stdout",
       "text": [
        "\n",
        "[t-SNE] Iteration 320: error = 4.1565007, gradient norm = 0.0083344"
       ]
      },
      {
       "output_type": "stream",
       "stream": "stdout",
       "text": [
        "\n",
        "[t-SNE] Iteration 330: error = 4.1564990, gradient norm = 0.0083344"
       ]
      },
      {
       "output_type": "stream",
       "stream": "stdout",
       "text": [
        "\n",
        "[t-SNE] Iteration 336: error difference 0.000000. Finished."
       ]
      },
      {
       "output_type": "stream",
       "stream": "stdout",
       "text": [
        "\n",
        "[t-SNE] Error after 336 iterations: 4.156498\n",
        "[t-SNE] Computing pairwise distances..."
       ]
      },
      {
       "output_type": "stream",
       "stream": "stdout",
       "text": [
        "\n",
        "[t-SNE] Computed conditional probabilities for sample 1000 / 4325"
       ]
      },
      {
       "output_type": "stream",
       "stream": "stdout",
       "text": [
        "\n",
        "[t-SNE] Computed conditional probabilities for sample 2000 / 4325"
       ]
      },
      {
       "output_type": "stream",
       "stream": "stdout",
       "text": [
        "\n",
        "[t-SNE] Computed conditional probabilities for sample 3000 / 4325"
       ]
      },
      {
       "output_type": "stream",
       "stream": "stdout",
       "text": [
        "\n",
        "[t-SNE] Computed conditional probabilities for sample 4000 / 4325"
       ]
      },
      {
       "output_type": "stream",
       "stream": "stdout",
       "text": [
        "\n",
        "[t-SNE] Computed conditional probabilities for sample 4325 / 4325"
       ]
      },
      {
       "output_type": "stream",
       "stream": "stdout",
       "text": [
        "\n",
        "[t-SNE] Mean sigma: 0.081536\n",
        "[t-SNE] Iteration 10: error = 23.1122826, gradient norm = 0.0161483"
       ]
      },
      {
       "output_type": "stream",
       "stream": "stdout",
       "text": [
        "\n",
        "[t-SNE] Iteration 20: error = 23.1643267, gradient norm = 0.0400709"
       ]
      },
      {
       "output_type": "stream",
       "stream": "stdout",
       "text": [
        "\n",
        "[t-SNE] Iteration 30: error = 23.2238370, gradient norm = 0.0531081"
       ]
      },
      {
       "output_type": "stream",
       "stream": "stdout",
       "text": [
        "\n",
        "[t-SNE] Iteration 33: did not make any progress during the last 30 episodes. Finished."
       ]
      },
      {
       "output_type": "stream",
       "stream": "stdout",
       "text": [
        "\n",
        "[t-SNE] Iteration 40: error = 23.1497930, gradient norm = 0.0372791"
       ]
      },
      {
       "output_type": "stream",
       "stream": "stdout",
       "text": [
        "\n",
        "[t-SNE] Iteration 50: error = 23.1212851, gradient norm = 0.0253219"
       ]
      },
      {
       "output_type": "stream",
       "stream": "stdout",
       "text": [
        "\n",
        "[t-SNE] Iteration 60: error = 23.1334611, gradient norm = 0.0375111"
       ]
      },
      {
       "output_type": "stream",
       "stream": "stdout",
       "text": [
        "\n",
        "[t-SNE] Iteration 70: error = 23.0949497, gradient norm = 0.0509662"
       ]
      },
      {
       "output_type": "stream",
       "stream": "stdout",
       "text": [
        "\n",
        "[t-SNE] Iteration 80: error = 22.9091174, gradient norm = 0.0571363"
       ]
      },
      {
       "output_type": "stream",
       "stream": "stdout",
       "text": [
        "\n",
        "[t-SNE] Iteration 90: error = 22.7543050, gradient norm = 0.0605704"
       ]
      },
      {
       "output_type": "stream",
       "stream": "stdout",
       "text": [
        "\n",
        "[t-SNE] Iteration 100: error = 22.7811872, gradient norm = 0.0606159"
       ]
      },
      {
       "output_type": "stream",
       "stream": "stdout",
       "text": [
        "\n",
        "[t-SNE] Error after 100 iterations with early exaggeration: 22.781187\n",
        "[t-SNE] Iteration 110: error = 4.0342023, gradient norm = 0.0100869"
       ]
      },
      {
       "output_type": "stream",
       "stream": "stdout",
       "text": [
        "\n",
        "[t-SNE] Iteration 120: error = 3.8415992, gradient norm = 0.0080703"
       ]
      },
      {
       "output_type": "stream",
       "stream": "stdout",
       "text": [
        "\n",
        "[t-SNE] Iteration 130: error = 3.7343494, gradient norm = 0.0078237"
       ]
      },
      {
       "output_type": "stream",
       "stream": "stdout",
       "text": [
        "\n",
        "[t-SNE] Iteration 140: error = 3.6731028, gradient norm = 0.0065805"
       ]
      },
      {
       "output_type": "stream",
       "stream": "stdout",
       "text": [
        "\n",
        "[t-SNE] Iteration 150: error = 3.6410014, gradient norm = 0.0062676"
       ]
      },
      {
       "output_type": "stream",
       "stream": "stdout",
       "text": [
        "\n",
        "[t-SNE] Iteration 160: error = 3.6226772, gradient norm = 0.0061159"
       ]
      },
      {
       "output_type": "stream",
       "stream": "stdout",
       "text": [
        "\n",
        "[t-SNE] Iteration 170: error = 3.6120896, gradient norm = 0.0060389"
       ]
      },
      {
       "output_type": "stream",
       "stream": "stdout",
       "text": [
        "\n",
        "[t-SNE] Iteration 180: error = 3.6058950, gradient norm = 0.0059940"
       ]
      },
      {
       "output_type": "stream",
       "stream": "stdout",
       "text": [
        "\n",
        "[t-SNE] Iteration 190: error = 3.6022391, gradient norm = 0.0059673"
       ]
      },
      {
       "output_type": "stream",
       "stream": "stdout",
       "text": [
        "\n",
        "[t-SNE] Iteration 200: error = 3.6000694, gradient norm = 0.0059513"
       ]
      },
      {
       "output_type": "stream",
       "stream": "stdout",
       "text": [
        "\n",
        "[t-SNE] Iteration 210: error = 3.5987771, gradient norm = 0.0059417"
       ]
      },
      {
       "output_type": "stream",
       "stream": "stdout",
       "text": [
        "\n",
        "[t-SNE] Iteration 220: error = 3.5980059, gradient norm = 0.0059359"
       ]
      },
      {
       "output_type": "stream",
       "stream": "stdout",
       "text": [
        "\n",
        "[t-SNE] Iteration 230: error = 3.5975450, gradient norm = 0.0059325"
       ]
      },
      {
       "output_type": "stream",
       "stream": "stdout",
       "text": [
        "\n",
        "[t-SNE] Iteration 240: error = 3.5972693, gradient norm = 0.0059304"
       ]
      },
      {
       "output_type": "stream",
       "stream": "stdout",
       "text": [
        "\n",
        "[t-SNE] Iteration 250: error = 3.5971044, gradient norm = 0.0059292"
       ]
      },
      {
       "output_type": "stream",
       "stream": "stdout",
       "text": [
        "\n",
        "[t-SNE] Iteration 260: error = 3.5970057, gradient norm = 0.0059285"
       ]
      },
      {
       "output_type": "stream",
       "stream": "stdout",
       "text": [
        "\n",
        "[t-SNE] Iteration 270: error = 3.5969466, gradient norm = 0.0059280"
       ]
      },
      {
       "output_type": "stream",
       "stream": "stdout",
       "text": [
        "\n",
        "[t-SNE] Iteration 280: error = 3.5969112, gradient norm = 0.0059278"
       ]
      },
      {
       "output_type": "stream",
       "stream": "stdout",
       "text": [
        "\n",
        "[t-SNE] Iteration 290: error = 3.5968901, gradient norm = 0.0059276"
       ]
      },
      {
       "output_type": "stream",
       "stream": "stdout",
       "text": [
        "\n",
        "[t-SNE] Iteration 300: error = 3.5968774, gradient norm = 0.0059275"
       ]
      },
      {
       "output_type": "stream",
       "stream": "stdout",
       "text": [
        "\n",
        "[t-SNE] Iteration 310: error = 3.5968698, gradient norm = 0.0059275"
       ]
      },
      {
       "output_type": "stream",
       "stream": "stdout",
       "text": [
        "\n",
        "[t-SNE] Iteration 320: error = 3.5968652, gradient norm = 0.0059274"
       ]
      },
      {
       "output_type": "stream",
       "stream": "stdout",
       "text": [
        "\n",
        "[t-SNE] Iteration 330: error = 3.5968625, gradient norm = 0.0059274"
       ]
      },
      {
       "output_type": "stream",
       "stream": "stdout",
       "text": [
        "\n",
        "[t-SNE] Iteration 340: error = 3.5968609, gradient norm = 0.0059274"
       ]
      },
      {
       "output_type": "stream",
       "stream": "stdout",
       "text": [
        "\n",
        "[t-SNE] Iteration 345: error difference 0.000000. Finished."
       ]
      },
      {
       "output_type": "stream",
       "stream": "stdout",
       "text": [
        "\n",
        "[t-SNE] Error after 345 iterations: 3.596860\n",
        "[t-SNE] Computing pairwise distances..."
       ]
      },
      {
       "output_type": "stream",
       "stream": "stdout",
       "text": [
        "\n",
        "[t-SNE] Computed conditional probabilities for sample 1000 / 4325"
       ]
      },
      {
       "output_type": "stream",
       "stream": "stdout",
       "text": [
        "\n",
        "[t-SNE] Computed conditional probabilities for sample 2000 / 4325"
       ]
      },
      {
       "output_type": "stream",
       "stream": "stdout",
       "text": [
        "\n",
        "[t-SNE] Computed conditional probabilities for sample 3000 / 4325"
       ]
      },
      {
       "output_type": "stream",
       "stream": "stdout",
       "text": [
        "\n",
        "[t-SNE] Computed conditional probabilities for sample 4000 / 4325"
       ]
      },
      {
       "output_type": "stream",
       "stream": "stdout",
       "text": [
        "\n",
        "[t-SNE] Computed conditional probabilities for sample 4325 / 4325"
       ]
      },
      {
       "output_type": "stream",
       "stream": "stdout",
       "text": [
        "\n",
        "[t-SNE] Mean sigma: 0.154636\n",
        "[t-SNE] Iteration 10: error = 23.8350807, gradient norm = 0.0025537"
       ]
      },
      {
       "output_type": "stream",
       "stream": "stdout",
       "text": [
        "\n",
        "[t-SNE] Iteration 20: error = 23.9008129, gradient norm = 0.0425887"
       ]
      },
      {
       "output_type": "stream",
       "stream": "stdout",
       "text": [
        "\n",
        "[t-SNE] Iteration 30: error = 24.0040084, gradient norm = 0.0618394"
       ]
      },
      {
       "output_type": "stream",
       "stream": "stdout",
       "text": [
        "\n",
        "[t-SNE] Iteration 33: did not make any progress during the last 30 episodes. Finished."
       ]
      },
      {
       "output_type": "stream",
       "stream": "stdout",
       "text": [
        "\n",
        "[t-SNE] Iteration 40: error = 23.8714935, gradient norm = 0.0356113"
       ]
      },
      {
       "output_type": "stream",
       "stream": "stdout",
       "text": [
        "\n",
        "[t-SNE] Iteration 50: error = 23.8594760, gradient norm = 0.0281769"
       ]
      },
      {
       "output_type": "stream",
       "stream": "stdout",
       "text": [
        "\n",
        "[t-SNE] Iteration 60: error = 23.8882126, gradient norm = 0.0442875"
       ]
      },
      {
       "output_type": "stream",
       "stream": "stdout",
       "text": [
        "\n",
        "[t-SNE] Iteration 66: did not make any progress during the last 30 episodes. Finished."
       ]
      },
      {
       "output_type": "stream",
       "stream": "stdout",
       "text": [
        "\n",
        "[t-SNE] Error after 66 iterations with early exaggeration: 23.880202\n",
        "[t-SNE] Iteration 70: error = 4.5490081, gradient norm = 0.0092922"
       ]
      },
      {
       "output_type": "stream",
       "stream": "stdout",
       "text": [
        "\n",
        "[t-SNE] Iteration 80: error = 4.3185714, gradient norm = 0.0096865"
       ]
      },
      {
       "output_type": "stream",
       "stream": "stdout",
       "text": [
        "\n",
        "[t-SNE] Iteration 90: error = 4.1447987, gradient norm = 0.0066601"
       ]
      },
      {
       "output_type": "stream",
       "stream": "stdout",
       "text": [
        "\n",
        "[t-SNE] Iteration 100: error = 4.0759593, gradient norm = 0.0058166"
       ]
      },
      {
       "output_type": "stream",
       "stream": "stdout",
       "text": [
        "\n",
        "[t-SNE] Iteration 110: error = 4.0412899, gradient norm = 0.0057913"
       ]
      },
      {
       "output_type": "stream",
       "stream": "stdout",
       "text": [
        "\n",
        "[t-SNE] Iteration 120: error = 4.0199321, gradient norm = 0.0059877"
       ]
      },
      {
       "output_type": "stream",
       "stream": "stdout",
       "text": [
        "\n",
        "[t-SNE] Iteration 130: error = 4.0059529, gradient norm = 0.0061689"
       ]
      },
      {
       "output_type": "stream",
       "stream": "stdout",
       "text": [
        "\n",
        "[t-SNE] Iteration 140: error = 3.9969275, gradient norm = 0.0062912"
       ]
      },
      {
       "output_type": "stream",
       "stream": "stdout",
       "text": [
        "\n",
        "[t-SNE] Iteration 150: error = 3.9912480, gradient norm = 0.0063667"
       ]
      },
      {
       "output_type": "stream",
       "stream": "stdout",
       "text": [
        "\n",
        "[t-SNE] Iteration 160: error = 3.9877427, gradient norm = 0.0064120"
       ]
      },
      {
       "output_type": "stream",
       "stream": "stdout",
       "text": [
        "\n",
        "[t-SNE] Iteration 170: error = 3.9856056, gradient norm = 0.0064391"
       ]
      },
      {
       "output_type": "stream",
       "stream": "stdout",
       "text": [
        "\n",
        "[t-SNE] Iteration 180: error = 3.9843122, gradient norm = 0.0064552"
       ]
      },
      {
       "output_type": "stream",
       "stream": "stdout",
       "text": [
        "\n",
        "[t-SNE] Iteration 190: error = 3.9835328, gradient norm = 0.0064649"
       ]
      },
      {
       "output_type": "stream",
       "stream": "stdout",
       "text": [
        "\n",
        "[t-SNE] Iteration 200: error = 3.9830644, gradient norm = 0.0064707"
       ]
      },
      {
       "output_type": "stream",
       "stream": "stdout",
       "text": [
        "\n",
        "[t-SNE] Iteration 210: error = 3.9827833, gradient norm = 0.0064742"
       ]
      },
      {
       "output_type": "stream",
       "stream": "stdout",
       "text": [
        "\n",
        "[t-SNE] Iteration 220: error = 3.9826147, gradient norm = 0.0064763"
       ]
      },
      {
       "output_type": "stream",
       "stream": "stdout",
       "text": [
        "\n",
        "[t-SNE] Iteration 230: error = 3.9825137, gradient norm = 0.0064775"
       ]
      },
      {
       "output_type": "stream",
       "stream": "stdout",
       "text": [
        "\n",
        "[t-SNE] Iteration 240: error = 3.9824532, gradient norm = 0.0064783"
       ]
      },
      {
       "output_type": "stream",
       "stream": "stdout",
       "text": [
        "\n",
        "[t-SNE] Iteration 250: error = 3.9824170, gradient norm = 0.0064787"
       ]
      },
      {
       "output_type": "stream",
       "stream": "stdout",
       "text": [
        "\n",
        "[t-SNE] Iteration 260: error = 3.9823953, gradient norm = 0.0064790"
       ]
      },
      {
       "output_type": "stream",
       "stream": "stdout",
       "text": [
        "\n",
        "[t-SNE] Iteration 270: error = 3.9823823, gradient norm = 0.0064791"
       ]
      },
      {
       "output_type": "stream",
       "stream": "stdout",
       "text": [
        "\n",
        "[t-SNE] Iteration 280: error = 3.9823745, gradient norm = 0.0064792"
       ]
      },
      {
       "output_type": "stream",
       "stream": "stdout",
       "text": [
        "\n",
        "[t-SNE] Iteration 290: error = 3.9823699, gradient norm = 0.0064793"
       ]
      },
      {
       "output_type": "stream",
       "stream": "stdout",
       "text": [
        "\n",
        "[t-SNE] Iteration 300: error = 3.9823671, gradient norm = 0.0064793"
       ]
      },
      {
       "output_type": "stream",
       "stream": "stdout",
       "text": [
        "\n",
        "[t-SNE] Iteration 310: error = 3.9823654, gradient norm = 0.0064793"
       ]
      },
      {
       "output_type": "stream",
       "stream": "stdout",
       "text": [
        "\n",
        "[t-SNE] Iteration 316: error difference 0.000000. Finished."
       ]
      },
      {
       "output_type": "stream",
       "stream": "stdout",
       "text": [
        "\n",
        "[t-SNE] Error after 316 iterations: 3.982365\n"
       ]
      }
     ],
     "prompt_number": 11
    },
    {
     "cell_type": "code",
     "collapsed": false,
     "input": [
      "color_dict = {'liberal':'b','conservative':'r','neutral':'k'}\n",
      "colors = [color_dict[i] for i in sAvgy]\n",
      "plt.scatter(*zip(*avgTSNE_model),c=colors)\n",
      "plt.show()"
     ],
     "language": "python",
     "metadata": {},
     "outputs": [
      {
       "metadata": {},
       "output_type": "display_data",
       "png": "[encoded data removed]",
       "text": [
        "<matplotlib.figure.Figure at 0x7ff30f81f278>"
       ]
      }
     ],
     "prompt_number": 12
    },
    {
     "cell_type": "code",
     "collapsed": false,
     "input": [
      "colors = [color_dict[i] for i in tfy]\n",
      "plt.scatter(*zip(*tfTSNE_model),c=colors)\n",
      "plt.show()"
     ],
     "language": "python",
     "metadata": {},
     "outputs": [
      {
       "metadata": {},
       "output_type": "display_data",
       "png": "[encoded data removed]",
       "text": [
        "<matplotlib.figure.Figure at 0x7ff30ef5cd30>"
       ]
      }
     ],
     "prompt_number": 13
    },
    {
     "cell_type": "code",
     "collapsed": false,
     "input": [
      "colors = [color_dict[i] for i in pVecY]\n",
      "plt.scatter(*zip(*pVecTSNE_model),c=colors)\n",
      "plt.show()"
     ],
     "language": "python",
     "metadata": {},
     "outputs": [
      {
       "metadata": {},
       "output_type": "display_data",
       "png": "[encoded data removed]",
       "text": [
        "<matplotlib.figure.Figure at 0x7ff30ef10cf8>"
       ]
      }
     ],
     "prompt_number": 14
    },
    {
     "cell_type": "code",
     "collapsed": false,
     "input": [
      "flatIBC = []\n",
      "for label in IBC_all:\n",
      "    for sent in IBC_all[label]:\n",
      "        flatIBC.append(' '.join(sent['words']))"
     ],
     "language": "python",
     "metadata": {},
     "outputs": [],
     "prompt_number": 15
    },
    {
     "cell_type": "code",
     "collapsed": false,
     "input": [
      "from sklearn.neighbors import NearestNeighbors\n",
      "import numpy as np\n",
      "\n",
      "sAvgNbrs = NearestNeighbors(n_neighbors=2).fit(sAvgX)\n",
      "tfNbrs = NearestNeighbors(n_neighbors=2).fit(tfX)\n",
      "pVecNbrs = NearestNeighbors(n_neighbors=2).fit(pVecX)\n",
      "sAvgDist, sAvgInd = sAvgNbrs.kneighbors(sAvgX[0])\n",
      "tfDist, tfInd = tfNbrs.kneighbors(tfX[0])\n",
      "pVecDist, pVecInd = pVecNbrs.kneighbors(pVecX[0])\n",
      "print (\"Base sentence:\", flatIBC[0])\n",
      "print (\"NN for sAvg:\", flatIBC[sAvgInd[0][1]], \", Distance: \", sAvgDist[0][1] )\n",
      "print (\"NN for tf:\", flatIBC[tfInd[0][1]], \", Distance: \", tfDist[0][1] )\n",
      "print (\"NN for pVec:\", flatIBC[pVecInd[0][1]], \", Distance: \", pVecDist[0][1] )\n"
     ],
     "language": "python",
     "metadata": {},
     "outputs": [
      {
       "output_type": "stream",
       "stream": "stdout",
       "text": [
        "Base sentence: Gore is getting rich from environmentalism , not just by being paid a whopping $ 175,000 per speech but by using political pressure to force government policy in a direction that benefits his business interests .\n",
        "NN for sAvg: The book makes a compelling case against the liberal approach to preserving the Earth and its resources , arguing that government controls usually have unintended consequences that prove far worse than the problems they were originally intended to fix . , Distance:  2.37504496614\n",
        "NN for tf: Shellenberger says visionary proposals are precisely what progressives need right now , `` devices that will prompt battles that may be lost legislatively but won at a cultural and political level '' because they would force conservatives to take a position at odds with the pursuit of energy independence . , Distance:  0.259842094901\n",
        "NN for pVec: Too often , the response to the threat of globalization is to make workers even more worse-off , not just by cutting their wages but also by lowering social protections . , Distance:  0.620641941571\n"
       ]
      }
     ],
     "prompt_number": 20
    },
    {
     "cell_type": "code",
     "collapsed": false,
     "input": [
      "from random import shuffle\n",
      "\n",
      "sAvgIBC = []\n",
      "LCONV = 0\n",
      "for label in IBC_all:\n",
      "    for sent in IBC_all[label]:\n",
      "        sAvgIBC.append((LCONV,sent['savg']))\n",
      "    LCONV += 1\n",
      "\n",
      "LCONV = 0\n",
      "tfIBC = []\n",
      "for label in IBC_all:\n",
      "    for sent in IBC_all[label]:\n",
      "        tfIBC.append((LCONV,sent['tfidf']))\n",
      "    LCONV += 1\n",
      "        \n",
      "LCONV = 0\n",
      "pVecIBC = []\n",
      "for label in IBC_all:\n",
      "    for sent in IBC_all[label]:\n",
      "        pVecIBC.append((LCONV,sent['vec']))\n",
      "    LCONV += 1\n",
      "        \n",
      "shuffle(sAvgIBC)\n",
      "shuffle(tfIBC)\n",
      "shuffle(pVecIBC)\n"
     ],
     "language": "python",
     "metadata": {},
     "outputs": [],
     "prompt_number": 29
    },
    {
     "cell_type": "code",
     "collapsed": false,
     "input": [
      "\n",
      "sAvgCSV = \"\"\n",
      "tfCSV = \"\"\n",
      "pVecCSV = \"\"\n",
      "lConv = 0\n",
      "\n",
      "for sent in sAvgIBC:\n",
      "    sAvgCSV += str(sent[0])\n",
      "    for dim in sent[1]:\n",
      "        sAvgCSV += \", \" + ('%.5f' % dim)\n",
      "    sAvgCSV += \"\\n\"\n",
      "\n",
      "for sent in tfIBC:\n",
      "    tfCSV += str(sent[0])\n",
      "    for dim in sent[1]:\n",
      "        tfCSV += \", \" + ('%.5f' % dim)\n",
      "    tfCSV += \"\\n\"\n",
      "\n",
      "for sent in pVecIBC:\n",
      "    pVecCSV += str(sent[0])\n",
      "    for dim in sent[1]:\n",
      "        pVecCSV += \", \" + ('%.5f' % dim)\n",
      "    pVecCSV += \"\\n\"\n"
     ],
     "language": "python",
     "metadata": {},
     "outputs": [],
     "prompt_number": 30
    },
    {
     "cell_type": "code",
     "collapsed": false,
     "input": [
      "scsvOut = open(\"sAvg.csv\",'w')\n",
      "tcsvOut = open(\"tfidf.csv\",'w')\n",
      "pcsvOut = open(\"pVec.csv\",'w')\n",
      "scsvOut.write(sAvgCSV)\n",
      "tcsvOut.write(tfCSV)\n",
      "pcsvOut.write(pVecCSV)"
     ],
     "language": "python",
     "metadata": {},
     "outputs": [
      {
       "metadata": {},
       "output_type": "pyout",
       "prompt_number": 31,
       "text": [
        "12341319"
       ]
      }
     ],
     "prompt_number": 31
    },
    {
     "cell_type": "code",
     "collapsed": false,
     "input": [],
     "language": "python",
     "metadata": {},
     "outputs": [
      {
       "output_type": "stream",
       "stream": "stdout",
       "text": [
        "!obj:pylearn2.datasets.csv_dataset.CSVDataset {\n",
        "        path: 'IBCCSV.txt',\n",
        "        task: \"classification\",\n",
        "        expect_labels: \"y\",\n",
        "        expect_headers: \"n\",\n",
        "        start: 0\n",
        "        stop: 3000\n",
        "}\n",
        "\n"
       ]
      }
     ],
     "prompt_number": 27
    },
    {
     "cell_type": "code",
     "collapsed": false,
     "input": [
      "print (locals())"
     ],
     "language": "python",
     "metadata": {},
     "outputs": [
      {
       "ename": "KeyboardInterrupt",
       "evalue": "",
       "output_type": "pyerr",
       "traceback": [
        "\u001b[1;31m---------------------------------------------------------------------------\u001b[0m\n\u001b[1;31mKeyboardInterrupt\u001b[0m                         Traceback (most recent call last)",
        "\u001b[1;32m<ipython-input-28-c51a6fa0223a>\u001b[0m in \u001b[0;36m<module>\u001b[1;34m()\u001b[0m\n\u001b[1;32m----> 1\u001b[1;33m \u001b[0mprint\u001b[0m \u001b[1;33m(\u001b[0m\u001b[0mlocals\u001b[0m\u001b[1;33m(\u001b[0m\u001b[1;33m)\u001b[0m\u001b[1;33m)\u001b[0m\u001b[1;33m\u001b[0m\u001b[0m\n\u001b[0m",
        "\u001b[1;32m/usr/local/lib/python3.4/dist-packages/numpy/core/numeric.py\u001b[0m in \u001b[0;36marray_repr\u001b[1;34m(arr, max_line_width, precision, suppress_small)\u001b[0m\n\u001b[0;32m   1651\u001b[0m     \u001b[1;32mif\u001b[0m \u001b[0marr\u001b[0m\u001b[1;33m.\u001b[0m\u001b[0msize\u001b[0m \u001b[1;33m>\u001b[0m \u001b[1;36m0\u001b[0m \u001b[1;32mor\u001b[0m \u001b[0marr\u001b[0m\u001b[1;33m.\u001b[0m\u001b[0mshape\u001b[0m\u001b[1;33m==\u001b[0m\u001b[1;33m(\u001b[0m\u001b[1;36m0\u001b[0m\u001b[1;33m,\u001b[0m\u001b[1;33m)\u001b[0m\u001b[1;33m:\u001b[0m\u001b[1;33m\u001b[0m\u001b[0m\n\u001b[0;32m   1652\u001b[0m         lst = array2string(arr, max_line_width, precision, suppress_small,\n\u001b[1;32m-> 1653\u001b[1;33m                            ', ', \"array(\")\n\u001b[0m\u001b[0;32m   1654\u001b[0m     \u001b[1;32melse\u001b[0m\u001b[1;33m:\u001b[0m \u001b[1;31m# show zero-length shape unless it is (0,)\u001b[0m\u001b[1;33m\u001b[0m\u001b[0m\n\u001b[0;32m   1655\u001b[0m         \u001b[0mlst\u001b[0m \u001b[1;33m=\u001b[0m \u001b[1;34m\"[], shape=%s\"\u001b[0m \u001b[1;33m%\u001b[0m \u001b[1;33m(\u001b[0m\u001b[0mrepr\u001b[0m\u001b[1;33m(\u001b[0m\u001b[0marr\u001b[0m\u001b[1;33m.\u001b[0m\u001b[0mshape\u001b[0m\u001b[1;33m)\u001b[0m\u001b[1;33m,\u001b[0m\u001b[1;33m)\u001b[0m\u001b[1;33m\u001b[0m\u001b[0m\n",
        "\u001b[1;32m/usr/local/lib/python3.4/dist-packages/numpy/core/arrayprint.py\u001b[0m in \u001b[0;36marray2string\u001b[1;34m(a, max_line_width, precision, suppress_small, separator, prefix, style, formatter)\u001b[0m\n\u001b[0;32m    452\u001b[0m     \u001b[1;32melse\u001b[0m\u001b[1;33m:\u001b[0m\u001b[1;33m\u001b[0m\u001b[0m\n\u001b[0;32m    453\u001b[0m         lst = _array2string(a, max_line_width, precision, suppress_small,\n\u001b[1;32m--> 454\u001b[1;33m                             separator, prefix, formatter=formatter)\n\u001b[0m\u001b[0;32m    455\u001b[0m     \u001b[1;32mreturn\u001b[0m \u001b[0mlst\u001b[0m\u001b[1;33m\u001b[0m\u001b[0m\n\u001b[0;32m    456\u001b[0m \u001b[1;33m\u001b[0m\u001b[0m\n",
        "\u001b[1;32m/usr/local/lib/python3.4/dist-packages/numpy/core/arrayprint.py\u001b[0m in \u001b[0;36m_array2string\u001b[1;34m(a, max_line_width, precision, suppress_small, separator, prefix, formatter)\u001b[0m\n\u001b[0;32m    326\u001b[0m     lst = _formatArray(a, format_function, len(a.shape), max_line_width,\n\u001b[0;32m    327\u001b[0m                        \u001b[0mnext_line_prefix\u001b[0m\u001b[1;33m,\u001b[0m \u001b[0mseparator\u001b[0m\u001b[1;33m,\u001b[0m\u001b[1;33m\u001b[0m\u001b[0m\n\u001b[1;32m--> 328\u001b[1;33m                        _summaryEdgeItems, summary_insert)[:-1]\n\u001b[0m\u001b[0;32m    329\u001b[0m     \u001b[1;32mreturn\u001b[0m \u001b[0mlst\u001b[0m\u001b[1;33m\u001b[0m\u001b[0m\n\u001b[0;32m    330\u001b[0m \u001b[1;33m\u001b[0m\u001b[0m\n",
        "\u001b[1;32m/usr/local/lib/python3.4/dist-packages/numpy/core/arrayprint.py\u001b[0m in \u001b[0;36m_formatArray\u001b[1;34m(a, format_function, rank, max_line_len, next_line_prefix, separator, edge_items, summary_insert)\u001b[0m\n\u001b[0;32m    495\u001b[0m \u001b[1;33m\u001b[0m\u001b[0m\n\u001b[0;32m    496\u001b[0m         \u001b[1;32mfor\u001b[0m \u001b[0mi\u001b[0m \u001b[1;32min\u001b[0m \u001b[0mrange\u001b[0m\u001b[1;33m(\u001b[0m\u001b[0mtrailing_items\u001b[0m\u001b[1;33m,\u001b[0m \u001b[1;36m1\u001b[0m\u001b[1;33m,\u001b[0m \u001b[1;33m-\u001b[0m\u001b[1;36m1\u001b[0m\u001b[1;33m)\u001b[0m\u001b[1;33m:\u001b[0m\u001b[1;33m\u001b[0m\u001b[0m\n\u001b[1;32m--> 497\u001b[1;33m             \u001b[0mword\u001b[0m \u001b[1;33m=\u001b[0m \u001b[0mformat_function\u001b[0m\u001b[1;33m(\u001b[0m\u001b[0ma\u001b[0m\u001b[1;33m[\u001b[0m\u001b[1;33m-\u001b[0m\u001b[0mi\u001b[0m\u001b[1;33m]\u001b[0m\u001b[1;33m)\u001b[0m \u001b[1;33m+\u001b[0m \u001b[0mseparator\u001b[0m\u001b[1;33m\u001b[0m\u001b[0m\n\u001b[0m\u001b[0;32m    498\u001b[0m             \u001b[0ms\u001b[0m\u001b[1;33m,\u001b[0m \u001b[0mline\u001b[0m \u001b[1;33m=\u001b[0m \u001b[0m_extendLine\u001b[0m\u001b[1;33m(\u001b[0m\u001b[0ms\u001b[0m\u001b[1;33m,\u001b[0m \u001b[0mline\u001b[0m\u001b[1;33m,\u001b[0m \u001b[0mword\u001b[0m\u001b[1;33m,\u001b[0m \u001b[0mmax_line_len\u001b[0m\u001b[1;33m,\u001b[0m \u001b[0mnext_line_prefix\u001b[0m\u001b[1;33m)\u001b[0m\u001b[1;33m\u001b[0m\u001b[0m\n\u001b[0;32m    499\u001b[0m \u001b[1;33m\u001b[0m\u001b[0m\n",
        "\u001b[1;32m/usr/local/lib/python3.4/dist-packages/numpy/core/arrayprint.py\u001b[0m in \u001b[0;36m__call__\u001b[1;34m(self, x, strip_zeros)\u001b[0m\n\u001b[0;32m    605\u001b[0m                 \u001b[1;32melse\u001b[0m\u001b[1;33m:\u001b[0m\u001b[1;33m\u001b[0m\u001b[0m\n\u001b[0;32m    606\u001b[0m                     \u001b[1;32mreturn\u001b[0m \u001b[0mself\u001b[0m\u001b[1;33m.\u001b[0m\u001b[0mspecial_fmt\u001b[0m \u001b[1;33m%\u001b[0m \u001b[1;33m(\u001b[0m\u001b[0m_nan_str\u001b[0m\u001b[1;33m,\u001b[0m\u001b[1;33m)\u001b[0m\u001b[1;33m\u001b[0m\u001b[0m\n\u001b[1;32m--> 607\u001b[1;33m             \u001b[1;32melif\u001b[0m \u001b[0misinf\u001b[0m\u001b[1;33m(\u001b[0m\u001b[0mx\u001b[0m\u001b[1;33m)\u001b[0m\u001b[1;33m:\u001b[0m\u001b[1;33m\u001b[0m\u001b[0m\n\u001b[0m\u001b[0;32m    608\u001b[0m                 \u001b[1;32mif\u001b[0m \u001b[0mx\u001b[0m \u001b[1;33m>\u001b[0m \u001b[1;36m0\u001b[0m\u001b[1;33m:\u001b[0m\u001b[1;33m\u001b[0m\u001b[0m\n\u001b[0;32m    609\u001b[0m                     \u001b[1;32mif\u001b[0m \u001b[0mself\u001b[0m\u001b[1;33m.\u001b[0m\u001b[0msign\u001b[0m\u001b[1;33m:\u001b[0m\u001b[1;33m\u001b[0m\u001b[0m\n",
        "\u001b[1;31mKeyboardInterrupt\u001b[0m: "
       ]
      }
     ],
     "prompt_number": 28
    },
    {
     "cell_type": "code",
     "collapsed": false,
     "input": [],
     "language": "python",
     "metadata": {},
     "outputs": []
    }
   ],
   "metadata": {}
  }
 ]
}